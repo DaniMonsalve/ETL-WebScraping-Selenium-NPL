{
 "cells": [
  {
   "attachments": {},
   "cell_type": "markdown",
   "metadata": {},
   "source": [
    "LIBRERIAS UTILIZADAS:"
   ]
  },
  {
   "cell_type": "code",
   "execution_count": 45,
   "metadata": {},
   "outputs": [],
   "source": [
    "import pandas as pd\n",
    "import numpy as np\n",
    "import re\n",
    "from matplotlib import pyplot as plt"
   ]
  },
  {
   "attachments": {},
   "cell_type": "markdown",
   "metadata": {},
   "source": [
    "Carga de los ficheros resultado del Web Scraping:"
   ]
  },
  {
   "cell_type": "code",
   "execution_count": 46,
   "metadata": {},
   "outputs": [],
   "source": [
    "#Creación DataFrame único:\n",
    "\n",
    "#pd.set_option('display.max_colwidth', 30) #Para visualizar mejor la columna \"description\"\n",
    "\n",
    "data20230330s = pd.read_csv('ofertas_data scientist_2023-03-30.csv')\n",
    "data20230330a = pd.read_csv('ofertas_data analyst_2023-03-30.csv')\n",
    "data20230316a = pd.read_csv('ofertas_data analyst_2023-03-16.csv')\n",
    "data20230316s = pd.read_csv('ofertas_data scientist_2023-03-16.csv')\n",
    "data20230309a = pd.read_csv('ofertas_data analyst_2023-03-09.csv')\n",
    "data20230309s = pd.read_csv('ofertas_data scientist_2023-03-09.csv')\n",
    "data20230303s = pd.read_csv('ofertas_data scientist_2023-03-03.csv')\n",
    "data20230303a = pd.read_csv('ofertas_data analyst_2023-03-03.csv')\n",
    "data20230223s = pd.read_csv('ofertas_data scientist_2023-02-23.csv')\n",
    "data20230223a = pd.read_csv('ofertas_data analyst_2023-02-23.csv')\n",
    "data20230216s = pd.read_csv('ofertas_data scientist_2023-02-16.csv')\n",
    "data20230216a = pd.read_csv('ofertas_data_analyst_2023-02-16.csv')\n",
    "df=pd.concat([data20230330s,data20230330a,data20230316a,data20230316s,data20230309a,data20230309s,data20230303s,data20230303a,data20230223s,data20230223a,data20230216s,data20230216a], axis=0)\n",
    "\n",
    "#Borro memoria\n",
    "del data20230330s \n",
    "del data20230330a \n",
    "del data20230316a \n",
    "del data20230316s \n",
    "del data20230309a \n",
    "del data20230309s \n",
    "del data20230303s \n",
    "del data20230303a \n",
    "del data20230223s \n",
    "del data20230223a \n",
    "del data20230216s\n",
    "del data20230216a"
   ]
  },
  {
   "attachments": {},
   "cell_type": "markdown",
   "metadata": {},
   "source": [
    "En este documento, a diferencia del análisis NPL (notebook \"Spacy.ipynb\"), en el que utilizaba la lematización con la librería Spacy, he decidido trabajar con un diccionario de términos que me interesa destacar. Los términos seleccionados tienen relación directa con los puestos de \"Científico de datos\" y \"analista de datos\", y se refieren a aptitudes y tecnologías usualmente requeridas para estos dos puestos de trabajo.\n",
    "\n",
    "La razón de utilizar este filtro de términos es la misma por la que me decidí a utilizar la lematización, el gran volumen de texto a analizar.\n",
    "\n",
    "Como se puede observar en el siguiente gráfico, el número de palabras utilizado de media para describir los puestos suele superar las 100 palabras."
   ]
  },
  {
   "cell_type": "code",
   "execution_count": 47,
   "metadata": {},
   "outputs": [
    {
     "data": {
      "text/plain": [
       "<Axes: >"
      ]
     },
     "execution_count": 47,
     "metadata": {},
     "output_type": "execute_result"
    },
    {
     "data": {
      "image/png": "[encoded data removed]",
      "text/plain": [
       "<Figure size 640x480 with 1 Axes>"
      ]
     },
     "metadata": {},
     "output_type": "display_data"
    }
   ],
   "source": [
    "#Número de carácteres\n",
    "#df['description'].str.len().hist()\n",
    "\n",
    "#Número de palabras:\n",
    "df['description'].str.split().str.len().hist()"
   ]
  },
  {
   "attachments": {},
   "cell_type": "markdown",
   "metadata": {},
   "source": [
    "Mi diccionario de términos se carga de la siguiente manera:"
   ]
  },
  {
   "cell_type": "code",
   "execution_count": 48,
   "metadata": {},
   "outputs": [
    {
     "data": {
      "text/plain": [
       "['Ansible',\n",
       " 'Celery',\n",
       " 'Cumplimiento de Datos',\n",
       " 'Especialista en modelado de datos',\n",
       " 'Seaborn']"
      ]
     },
     "execution_count": 48,
     "metadata": {},
     "output_type": "execute_result"
    }
   ],
   "source": [
    "with open(\"lista_terminos.txt\", encoding=\"utf8\") as file: terminos = file.read()\n",
    "\n",
    "terminos = [word.strip(' ') for word in terminos.split(',')]\n",
    "terminos = [word.strip('\"') for word in terminos]\n",
    "terminos = list(set(terminos))\n",
    "terminos[:5] #Primeras 5 palabras"
   ]
  },
  {
   "attachments": {},
   "cell_type": "markdown",
   "metadata": {},
   "source": [
    "Creo la función que me permitirá crear una columna \"lista_skills\", formada a su vez, para cada registro, con una lista de términos presentes tanto en la oferta analizada como en mi diccionario de términos.\n",
    "\n",
    "El resultado se muestra un poco más abajo."
   ]
  },
  {
   "cell_type": "code",
   "execution_count": 49,
   "metadata": {},
   "outputs": [],
   "source": [
    "#Algunos valores en mi columna df['description'] no son string, luego debo ignorarlos con la siguiente función:\n",
    "def find_matching_words(text, word_list):\n",
    "    if text is not None:\n",
    "        # Convert the value to a string before applying the split method\n",
    "        text_str = str(text)\n",
    "        words = text_str.split()\n",
    "        matching_words = [word for word in words if word in word_list]\n",
    "        return matching_words\n",
    "    else:\n",
    "        return []\n",
    "\n",
    "\n",
    "# Apply the function to each row of the DataFrame and create a new column called \"lista_skills\"\n",
    "df['lista_skills'] = df['description'].apply(lambda x: find_matching_words(x, terminos))\n"
   ]
  },
  {
   "cell_type": "code",
   "execution_count": 50,
   "metadata": {},
   "outputs": [],
   "source": [
    "#Para leer el contenido completo con text editor:\n",
    "#print(df.to_markdown())"
   ]
  },
  {
   "attachments": {},
   "cell_type": "markdown",
   "metadata": {},
   "source": [
    "Elimino duplicados detro de las listas generadas en mi nueva columna \"Lista_skills\":"
   ]
  },
  {
   "cell_type": "code",
   "execution_count": 52,
   "metadata": {},
   "outputs": [
    {
     "name": "stdout",
     "output_type": "stream",
     "text": [
      "|    | job_title                          | company_name                   | company_location                       | work_method   | post_date      | work_time                                  | fecha_scraping   | id_job                                       | lista_skills                                                              |\n",
      "|---:|:-----------------------------------|:-------------------------------|:---------------------------------------|:--------------|:---------------|:-------------------------------------------|:-----------------|:---------------------------------------------|:--------------------------------------------------------------------------|\n",
      "|  0 | Data Scientist (Andorra)           | Gauss & Neumann                | Barcelona, Cataluña, España            | Híbrido       | hace 3 semanas | Jornada completa                           | 30/03/2023       | Data Scientist (Andorra)Gauss & Neumann      | ['Engineering', 'English', 'Mathematics']                                 |\n",
      "|  1 | Data Analyst                       | Uptimal                        | Gerona y alrededores                   | Presencial    | hace 2 días    | Jornada completa · Sin experiencia         | 30/03/2023       | Data AnalystUptimal                          | ['KPIs']                                                                  |\n",
      "|  2 | Senior Data Scientist              | KPMG España                    | Madrid, Comunidad de Madrid, España    | Híbrido       | hace 1 día     | Jornada completa · Intermedio              | 30/03/2023       | Senior Data ScientistKPMG España             | ['flexible', 'Java', 'SQL', 'Spark', 'Azure']                             |\n",
      "|  3 | Data Scientist                     | CGI                            | Madrid, Comunidad de Madrid, España    | Híbrido       | hace 15 horas  | Más de 10.001 empleados · Petróleo y gas   | 30/03/2023       | Data ScientistCGI                            | ['SQL', 'Python', 'Matemáticas', 'Tableau', 'IT']                         |\n",
      "|  4 | Data Scientist / Sr Data Scientist | Repsol                         | Madrid, Comunidad de Madrid, España    | Híbrido       | hace 1 semana  | Jornada completa · Intermedio              | 30/03/2023       | Data Scientist / Sr Data ScientistRepsol     | ['flexible']                                                              |\n",
      "|  5 | Data Scientist                     | PepsiCo                        | Barcelona, Cataluña, España            | Híbrido       | hace 2 semanas | Jornada completa · Algo de responsabilidad | 30/03/2023       | Data ScientistPepsiCo                        | ['PySpark', 'Agile', 'KPIs', 'Docker', 'Azure', 'ETL', 'modelling', 'IT'] |\n",
      "|  6 | Data Scientist                     | ManpowerGroup Talent Solutions | Oviedo, Principado de Asturias, España | Híbrido       | hace 3 semanas | Jornada completa                           | 30/03/2023       | Data ScientistManpowerGroup Talent Solutions | ['Python', 'Inglés']                                                      |\n",
      "|  7 | Data Scientist (Andorra)           | Gauss & Neumann                | Barcelona, Cataluña, España            | Híbrido       | hace 3 semanas | Jornada completa                           | 30/03/2023       | Data Scientist (Andorra)Gauss & Neumann      | ['Engineering', 'English', 'Mathematics']                                 |\n"
     ]
    }
   ],
   "source": [
    "df['lista_skills'] = df['lista_skills'].apply(set) #Elimino duplicados en mis listas de la columna 'lista_skills'\n",
    "#print(df.iloc[:, ~df.columns.isin(['description'])].to_markdown())\n",
    "# Elimino duplicados dentro de las listas de la columna 'lista_skills'\n",
    "remove_lower_dupes = lambda lst: list({s.lower(): s for s in lst}.values())\n",
    "df['lista_skills'] = df['lista_skills'].apply(remove_lower_dupes)\n",
    "print(df.iloc[0:8, ~df.columns.isin(['description'])].to_markdown())"
   ]
  },
  {
   "attachments": {},
   "cell_type": "markdown",
   "metadata": {},
   "source": [
    "Enumero en una nueva columna (\"numero_requisitos\") el número de términos destacados para cada una de mis ofertas:"
   ]
  },
  {
   "cell_type": "code",
   "execution_count": 53,
   "metadata": {},
   "outputs": [
    {
     "name": "stdout",
     "output_type": "stream",
     "text": [
      "|    | lista_skills                                                              |   numero_requisitos |\n",
      "|---:|:--------------------------------------------------------------------------|--------------------:|\n",
      "|  0 | ['Engineering', 'English', 'Mathematics']                                 |                   3 |\n",
      "|  1 | ['KPIs']                                                                  |                   1 |\n",
      "|  2 | ['flexible', 'Java', 'SQL', 'Spark', 'Azure']                             |                   5 |\n",
      "|  3 | ['SQL', 'Python', 'Matemáticas', 'Tableau', 'IT']                         |                   5 |\n",
      "|  4 | ['flexible']                                                              |                   1 |\n",
      "|  5 | ['PySpark', 'Agile', 'KPIs', 'Docker', 'Azure', 'ETL', 'modelling', 'IT'] |                   8 |\n",
      "|  6 | ['Python', 'Inglés']                                                      |                   2 |\n",
      "|  7 | ['Engineering', 'English', 'Mathematics']                                 |                   3 |\n"
     ]
    }
   ],
   "source": [
    "#Crear una nueva columna \"numero_requisitos\" con el número de términos en la columna 'lista_skills'\n",
    "df['numero_requisitos'] = df['lista_skills'].apply(len)\n",
    "print(df.iloc[0:8,df.columns.isin(['lista_skills','numero_requisitos'])].to_markdown())"
   ]
  },
  {
   "attachments": {},
   "cell_type": "markdown",
   "metadata": {},
   "source": [
    "El resultado final se ve de con el siguiente ejemplo, en el que busco por ciudad."
   ]
  },
  {
   "cell_type": "code",
   "execution_count": 54,
   "metadata": {},
   "outputs": [
    {
     "data": {
      "text/html": [
       "<div>\n",
       "<style scoped>\n",
       "    .dataframe tbody tr th:only-of-type {\n",
       "        vertical-align: middle;\n",
       "    }\n",
       "\n",
       "    .dataframe tbody tr th {\n",
       "        vertical-align: top;\n",
       "    }\n",
       "\n",
       "    .dataframe thead th {\n",
       "        text-align: right;\n",
       "    }\n",
       "</style>\n",
       "<table border=\"1\" class=\"dataframe\">\n",
       "  <thead>\n",
       "    <tr style=\"text-align: right;\">\n",
       "      <th></th>\n",
       "      <th>job_title</th>\n",
       "      <th>company_name</th>\n",
       "      <th>company_location</th>\n",
       "      <th>work_method</th>\n",
       "      <th>post_date</th>\n",
       "      <th>work_time</th>\n",
       "      <th>description</th>\n",
       "      <th>fecha_scraping</th>\n",
       "      <th>id_job</th>\n",
       "      <th>lista_skills</th>\n",
       "      <th>numero_requisitos</th>\n",
       "    </tr>\n",
       "  </thead>\n",
       "  <tbody>\n",
       "    <tr>\n",
       "      <th>313</th>\n",
       "      <td>Management Information Systems Specialist</td>\n",
       "      <td>Newline Interactive EMEA</td>\n",
       "      <td>Tres Cantos, Comunidad de Madrid, España</td>\n",
       "      <td>Híbrido</td>\n",
       "      <td>hace 4 semanas</td>\n",
       "      <td>Jornada completa · Intermedio</td>\n",
       "      <td>Acerca del empleo\\nKey Responsabilities\\nWorks...</td>\n",
       "      <td>16/03/2023</td>\n",
       "      <td>Management Information Systems SpecialistNewli...</td>\n",
       "      <td>[reporting, Tableau, English, Agile]</td>\n",
       "      <td>4</td>\n",
       "    </tr>\n",
       "    <tr>\n",
       "      <th>21</th>\n",
       "      <td>Data Analyst</td>\n",
       "      <td>Siemens</td>\n",
       "      <td>Tres Cantos, Comunidad de Madrid, España</td>\n",
       "      <td>Presencial</td>\n",
       "      <td>hace 1 semana</td>\n",
       "      <td>Jornada completa · Intermedio</td>\n",
       "      <td>Acerca del empleo\\nSiemens Mobility is a separ...</td>\n",
       "      <td>03/03/2023</td>\n",
       "      <td>Data AnalystSiemens</td>\n",
       "      <td>[reporting, Python, R, VBA, modelling]</td>\n",
       "      <td>5</td>\n",
       "    </tr>\n",
       "    <tr>\n",
       "      <th>37</th>\n",
       "      <td>Data Analyst</td>\n",
       "      <td>Siemens</td>\n",
       "      <td>Tres Cantos, Comunidad de Madrid, España</td>\n",
       "      <td>Híbrido</td>\n",
       "      <td>hace 4 días</td>\n",
       "      <td>Jornada completa · Intermedio</td>\n",
       "      <td>Acerca del empleo\\nSiemens Mobility is a separ...</td>\n",
       "      <td>03/03/2023</td>\n",
       "      <td>Data AnalystSiemens</td>\n",
       "      <td>[reporting, Python, R, VBA, modelling]</td>\n",
       "      <td>5</td>\n",
       "    </tr>\n",
       "    <tr>\n",
       "      <th>61</th>\n",
       "      <td>Data Analyst</td>\n",
       "      <td>Siemens</td>\n",
       "      <td>Tres Cantos, Comunidad de Madrid, España</td>\n",
       "      <td>Presencial</td>\n",
       "      <td>hace 3 semanas</td>\n",
       "      <td>Jornada completa · Intermedio</td>\n",
       "      <td>Acerca del empleo\\nSiemens Mobility is a separ...</td>\n",
       "      <td>03/03/2023</td>\n",
       "      <td>Data AnalystSiemens</td>\n",
       "      <td>[reporting, Python, R, VBA, modelling]</td>\n",
       "      <td>5</td>\n",
       "    </tr>\n",
       "    <tr>\n",
       "      <th>93</th>\n",
       "      <td>Data Analyst</td>\n",
       "      <td>Siemens</td>\n",
       "      <td>Tres Cantos, Comunidad de Madrid, España</td>\n",
       "      <td>Híbrido</td>\n",
       "      <td>hace 3 días</td>\n",
       "      <td>Jornada completa · Algo de responsabilidad</td>\n",
       "      <td>Acerca del empleo\\nSiemens Mobility is a separ...</td>\n",
       "      <td>03/03/2023</td>\n",
       "      <td>Data AnalystSiemens</td>\n",
       "      <td>[reporting, Python, R, VBA, modelling]</td>\n",
       "      <td>5</td>\n",
       "    </tr>\n",
       "  </tbody>\n",
       "</table>\n",
       "</div>"
      ],
      "text/plain": [
       "                                     job_title              company_name  \\\n",
       "313  Management Information Systems Specialist  Newline Interactive EMEA   \n",
       "21                                Data Analyst                   Siemens   \n",
       "37                                Data Analyst                   Siemens   \n",
       "61                                Data Analyst                   Siemens   \n",
       "93                                Data Analyst                   Siemens   \n",
       "\n",
       "                             company_location work_method       post_date  \\\n",
       "313  Tres Cantos, Comunidad de Madrid, España     Híbrido  hace 4 semanas   \n",
       "21   Tres Cantos, Comunidad de Madrid, España  Presencial   hace 1 semana   \n",
       "37   Tres Cantos, Comunidad de Madrid, España     Híbrido     hace 4 días   \n",
       "61   Tres Cantos, Comunidad de Madrid, España  Presencial  hace 3 semanas   \n",
       "93   Tres Cantos, Comunidad de Madrid, España     Híbrido     hace 3 días   \n",
       "\n",
       "                                      work_time  \\\n",
       "313               Jornada completa · Intermedio   \n",
       "21                Jornada completa · Intermedio   \n",
       "37                Jornada completa · Intermedio   \n",
       "61                Jornada completa · Intermedio   \n",
       "93   Jornada completa · Algo de responsabilidad   \n",
       "\n",
       "                                           description fecha_scraping  \\\n",
       "313  Acerca del empleo\\nKey Responsabilities\\nWorks...     16/03/2023   \n",
       "21   Acerca del empleo\\nSiemens Mobility is a separ...     03/03/2023   \n",
       "37   Acerca del empleo\\nSiemens Mobility is a separ...     03/03/2023   \n",
       "61   Acerca del empleo\\nSiemens Mobility is a separ...     03/03/2023   \n",
       "93   Acerca del empleo\\nSiemens Mobility is a separ...     03/03/2023   \n",
       "\n",
       "                                                id_job  \\\n",
       "313  Management Information Systems SpecialistNewli...   \n",
       "21                                 Data AnalystSiemens   \n",
       "37                                 Data AnalystSiemens   \n",
       "61                                 Data AnalystSiemens   \n",
       "93                                 Data AnalystSiemens   \n",
       "\n",
       "                               lista_skills  numero_requisitos  \n",
       "313    [reporting, Tableau, English, Agile]                  4  \n",
       "21   [reporting, Python, R, VBA, modelling]                  5  \n",
       "37   [reporting, Python, R, VBA, modelling]                  5  \n",
       "61   [reporting, Python, R, VBA, modelling]                  5  \n",
       "93   [reporting, Python, R, VBA, modelling]                  5  "
      ]
     },
     "execution_count": 54,
     "metadata": {},
     "output_type": "execute_result"
    }
   ],
   "source": [
    "\n",
    "df['company_location'] = df['company_location'].fillna('')\n",
    "df[df['company_location'].str.contains('Tres Cantos')].head(5)\n"
   ]
  },
  {
   "attachments": {},
   "cell_type": "markdown",
   "metadata": {},
   "source": [
    "A continuación trataré de extraer el número de años de experiencia que se requiere en cada oferta de empleo.\n",
    "\n",
    "Buscaré el número más proximo a las palabras 'year', 'years', 'año' y 'años'.\n",
    "\n",
    "(A lo largo de este proceso tendré que tratar con los campos null)"
   ]
  },
  {
   "cell_type": "code",
   "execution_count": 55,
   "metadata": {},
   "outputs": [],
   "source": [
    "def obtener_años_experiencia(text):\n",
    "    pattern = r'\\b\\d+\\s+(year |years |año |años )\\b'  # patrón de expresión regular para encontrar el número de años\n",
    "    match = re.search(pattern, text, re.IGNORECASE)\n",
    "    if match:\n",
    "        return match.group(0)\n",
    "    else:\n",
    "        return None"
   ]
  },
  {
   "cell_type": "code",
   "execution_count": 56,
   "metadata": {},
   "outputs": [],
   "source": [
    "df['description'] = df['description'].fillna('')\n",
    "df['años_de_experiencia'] = df['description'].apply(lambda x: obtener_años_experiencia(x) if re.search(r'\\bexperiencia\\b', x, re.IGNORECASE) or re.search(r'\\bexperience\\b', x, re.IGNORECASE) else None)\n",
    "#print(df.to_markdown()) #Muestra todas las columnas\n",
    "df['años_de_experiencia'] = df['años_de_experiencia'].fillna('')\n",
    "df['años_de_experiencia'] = df['años_de_experiencia'].apply(lambda x: re.sub('[^0-9]', '', x)) #elimino las palabras del la columna años_de_experiencia dejando sólo el número de años\n",
    "#print(df.iloc[:, df.columns.isin(['lista_skills','numero_requisitos','años_de_experiencia'])].to_markdown())"
   ]
  },
  {
   "cell_type": "code",
   "execution_count": 57,
   "metadata": {},
   "outputs": [
    {
     "name": "stdout",
     "output_type": "stream",
     "text": [
      "|    | lista_skills                                                              |   numero_requisitos | años_de_experiencia   |\n",
      "|---:|:--------------------------------------------------------------------------|--------------------:|:----------------------|\n",
      "|  0 | ['Engineering', 'English', 'Mathematics']                                 |                   3 |                       |\n",
      "|  1 | ['KPIs']                                                                  |                   1 |                       |\n",
      "|  2 | ['flexible', 'Java', 'SQL', 'Spark', 'Azure']                             |                   5 | 4                     |\n",
      "|  3 | ['SQL', 'Python', 'Matemáticas', 'Tableau', 'IT']                         |                   5 | 3                     |\n",
      "|  4 | ['flexible']                                                              |                   1 | 7                     |\n",
      "|  5 | ['PySpark', 'Agile', 'KPIs', 'Docker', 'Azure', 'ETL', 'modelling', 'IT'] |                   8 |                       |\n",
      "|  6 | ['Python', 'Inglés']                                                      |                   2 |                       |\n",
      "|  7 | ['Engineering', 'English', 'Mathematics']                                 |                   3 |                       |\n"
     ]
    }
   ],
   "source": [
    "#df1=df.dropna(subset=['numero_requisitos', 'años_de_experiencia'])\n",
    "df1 = df[df['numero_requisitos'].notna()]\n",
    "df1 = df1[df1['años_de_experiencia'].notna()]\n",
    "print(df1.iloc[0:8, df1.columns.isin(['lista_skills','numero_requisitos','años_de_experiencia'])].to_markdown())"
   ]
  },
  {
   "attachments": {},
   "cell_type": "markdown",
   "metadata": {},
   "source": [
    "Trato de responder a la siguiente pregunta:\n",
    "\n",
    "¿Existe alguna correlación entre el número de competencias que son nombradas en estas ofertas de empleo y el número de años de experiencia que se pide en cada una de ellas?\n"
   ]
  },
  {
   "cell_type": "code",
   "execution_count": 58,
   "metadata": {},
   "outputs": [
    {
     "name": "stdout",
     "output_type": "stream",
     "text": [
      "Coeficiente de correlación:  -0.03178736516419891\n"
     ]
    }
   ],
   "source": [
    "#necesito valores numéricos para realizar cálculos de correlación\n",
    "#Para tranformar la columna df['numero_requisitos']:\n",
    "df['numero_requisitos'] = df['numero_requisitos'].astype(int)\n",
    "\n",
    "#Para transformar la columna df['años_de_experiencia'] en tipo numérico necesito desacerme de strings vacíos (''), con la siguiente formula:\n",
    "def extraer_numeros(cadena):\n",
    "    if cadena:\n",
    "        numeros = re.findall(r'\\d+', cadena)\n",
    "        if numeros:\n",
    "            return int(''.join(numeros))\n",
    "    return None\n",
    "\n",
    "df['años_de_experiencia'] = df['años_de_experiencia'].apply(extraer_numeros)\n",
    "\n",
    "#Voy a considerar los valores superiores a 10 años de experiencia como atípicos y descartarlos\n",
    "df.loc[df['años_de_experiencia'] > 10, 'años_de_experiencia'] = None\n",
    "\n",
    "#Considero que los registros que contengan en el nombre del puesto la palabra \"junior\" no pueden tener un valor en la columna \"años_de_experiencia\" > 3, por lo tanto, descartaré los registros que cumplan esta condición.\n",
    "df['job_title'] = df['job_title'].astype(str)\n",
    "for i, row in df.iterrows():\n",
    "    # verificar si la columna 'a' contiene la palabra 'junior' (ignorando mayúsculas y minúsculas) y la columna 'b' es mayor que 3\n",
    "    if 'junior' in row['job_title'].lower() and row['años_de_experiencia'] > 3:\n",
    "        # eliminar la columna 'b'\n",
    "        df.at[i, 'años_de_experiencia'] = None\n",
    "\n",
    "#A continuación la prueba de correlación\n",
    "print(\"Coeficiente de correlación: \", df['numero_requisitos'].corr(df['años_de_experiencia']))\n",
    "#plt.plot(df['numero_requisitos'],df['años_de_experiencia'])\n",
    "#plt.show()"
   ]
  },
  {
   "cell_type": "code",
   "execution_count": 59,
   "metadata": {},
   "outputs": [
    {
     "data": {
      "text/plain": [
       "<Axes: xlabel='numero_requisitos', ylabel='años_de_experiencia'>"
      ]
     },
     "execution_count": 59,
     "metadata": {},
     "output_type": "execute_result"
    },
    {
     "data": {
      "image/png": "[encoded data removed]",
      "text/plain": [
       "<Figure size 640x480 with 1 Axes>"
      ]
     },
     "metadata": {},
     "output_type": "display_data"
    }
   ],
   "source": [
    "import seaborn as sns\n",
    "\n",
    "# Equivalente a:\n",
    "sns.regplot(x = \"numero_requisitos\", y = \"años_de_experiencia\", data = df)"
   ]
  },
  {
   "attachments": {},
   "cell_type": "markdown",
   "metadata": {},
   "source": [
    "Parece que la correlación es menor a la esperada...\n",
    "\n",
    "Tal vez debería estudiar la diferencia entre los puestos \"JUNIOR\" y \"SENIOR\""
   ]
  },
  {
   "cell_type": "code",
   "execution_count": 60,
   "metadata": {},
   "outputs": [
    {
     "data": {
      "text/html": [
       "<div>\n",
       "<style scoped>\n",
       "    .dataframe tbody tr th:only-of-type {\n",
       "        vertical-align: middle;\n",
       "    }\n",
       "\n",
       "    .dataframe tbody tr th {\n",
       "        vertical-align: top;\n",
       "    }\n",
       "\n",
       "    .dataframe thead th {\n",
       "        text-align: right;\n",
       "    }\n",
       "</style>\n",
       "<table border=\"1\" class=\"dataframe\">\n",
       "  <thead>\n",
       "    <tr style=\"text-align: right;\">\n",
       "      <th></th>\n",
       "      <th>job_title</th>\n",
       "      <th>company_name</th>\n",
       "      <th>company_location</th>\n",
       "      <th>work_method</th>\n",
       "      <th>post_date</th>\n",
       "      <th>work_time</th>\n",
       "      <th>description</th>\n",
       "      <th>fecha_scraping</th>\n",
       "      <th>id_job</th>\n",
       "      <th>lista_skills</th>\n",
       "      <th>numero_requisitos</th>\n",
       "      <th>años_de_experiencia</th>\n",
       "    </tr>\n",
       "  </thead>\n",
       "  <tbody>\n",
       "    <tr>\n",
       "      <th>44</th>\n",
       "      <td>Data Analyst</td>\n",
       "      <td>Publicis Groupe España</td>\n",
       "      <td>Madrid, Comunidad de Madrid, España</td>\n",
       "      <td>Híbrido</td>\n",
       "      <td>hace 3 semanas</td>\n",
       "      <td>Jornada completa · Intermedio</td>\n",
       "      <td>Acerca del empleo\\nLine of Service\\n\\nAdvisory...</td>\n",
       "      <td>09/03/2023</td>\n",
       "      <td>Data AnalystPublicis Groupe España</td>\n",
       "      <td>[Matemáticas, Travel, ADE]</td>\n",
       "      <td>3</td>\n",
       "      <td>10.0</td>\n",
       "    </tr>\n",
       "    <tr>\n",
       "      <th>304</th>\n",
       "      <td>Senior Data Scientist (d/f/m)</td>\n",
       "      <td>Personio</td>\n",
       "      <td>Madrid, Comunidad de Madrid, España</td>\n",
       "      <td>Presencial</td>\n",
       "      <td>hace 2 días</td>\n",
       "      <td>Jornada completa</td>\n",
       "      <td>Acerca del empleo\\nTipo de contrato: Indefinid...</td>\n",
       "      <td>23/02/2023</td>\n",
       "      <td>Senior Data Scientist (d/f/m)Personio</td>\n",
       "      <td>[flexible, SQL, Agile, Azure, auditoría]</td>\n",
       "      <td>5</td>\n",
       "      <td>10.0</td>\n",
       "    </tr>\n",
       "    <tr>\n",
       "      <th>277</th>\n",
       "      <td>Machine Learning Engineer</td>\n",
       "      <td>Capgemini Engineering</td>\n",
       "      <td>España</td>\n",
       "      <td>Híbrido</td>\n",
       "      <td>hace 1 semana</td>\n",
       "      <td>Jornada completa · Intermedio</td>\n",
       "      <td>Acerca del empleo\\nJob Description &amp; Summary\\n...</td>\n",
       "      <td>16/03/2023</td>\n",
       "      <td>Machine Learning EngineerCapgemini Engineering</td>\n",
       "      <td>[Matemáticas, ADE]</td>\n",
       "      <td>2</td>\n",
       "      <td>10.0</td>\n",
       "    </tr>\n",
       "    <tr>\n",
       "      <th>307</th>\n",
       "      <td>Business Data Analyst</td>\n",
       "      <td>HCLTech</td>\n",
       "      <td>España</td>\n",
       "      <td>En remoto</td>\n",
       "      <td>hace 1 día</td>\n",
       "      <td>Jornada completa · Director</td>\n",
       "      <td>Acerca del empleo\\nLine of Service\\n\\nAdvisory...</td>\n",
       "      <td>09/03/2023</td>\n",
       "      <td>Business Data AnalystHCLTech</td>\n",
       "      <td>[Matemáticas, Travel, ADE]</td>\n",
       "      <td>3</td>\n",
       "      <td>10.0</td>\n",
       "    </tr>\n",
       "    <tr>\n",
       "      <th>1</th>\n",
       "      <td>Consultoría | New Joiners Data &amp; Analytics // ...</td>\n",
       "      <td>PwC España</td>\n",
       "      <td>Málaga, Andalucía, España</td>\n",
       "      <td>Presencial</td>\n",
       "      <td>hace 2 semanas</td>\n",
       "      <td>Jornada completa · Intermedio</td>\n",
       "      <td>Acerca del empleo\\nJob Description &amp; Summary\\n...</td>\n",
       "      <td>30/03/2023</td>\n",
       "      <td>Consultoría | New Joiners Data &amp; Analytics // ...</td>\n",
       "      <td>[Matemáticas, ADE]</td>\n",
       "      <td>2</td>\n",
       "      <td>10.0</td>\n",
       "    </tr>\n",
       "  </tbody>\n",
       "</table>\n",
       "</div>"
      ],
      "text/plain": [
       "                                             job_title  \\\n",
       "44                                        Data Analyst   \n",
       "304                      Senior Data Scientist (d/f/m)   \n",
       "277                          Machine Learning Engineer   \n",
       "307                              Business Data Analyst   \n",
       "1    Consultoría | New Joiners Data & Analytics // ...   \n",
       "\n",
       "               company_name                     company_location work_method  \\\n",
       "44   Publicis Groupe España  Madrid, Comunidad de Madrid, España     Híbrido   \n",
       "304                Personio  Madrid, Comunidad de Madrid, España  Presencial   \n",
       "277   Capgemini Engineering                               España     Híbrido   \n",
       "307                 HCLTech                               España   En remoto   \n",
       "1                PwC España            Málaga, Andalucía, España  Presencial   \n",
       "\n",
       "          post_date                      work_time  \\\n",
       "44   hace 3 semanas  Jornada completa · Intermedio   \n",
       "304     hace 2 días               Jornada completa   \n",
       "277   hace 1 semana  Jornada completa · Intermedio   \n",
       "307      hace 1 día    Jornada completa · Director   \n",
       "1    hace 2 semanas  Jornada completa · Intermedio   \n",
       "\n",
       "                                           description fecha_scraping  \\\n",
       "44   Acerca del empleo\\nLine of Service\\n\\nAdvisory...     09/03/2023   \n",
       "304  Acerca del empleo\\nTipo de contrato: Indefinid...     23/02/2023   \n",
       "277  Acerca del empleo\\nJob Description & Summary\\n...     16/03/2023   \n",
       "307  Acerca del empleo\\nLine of Service\\n\\nAdvisory...     09/03/2023   \n",
       "1    Acerca del empleo\\nJob Description & Summary\\n...     30/03/2023   \n",
       "\n",
       "                                                id_job  \\\n",
       "44                  Data AnalystPublicis Groupe España   \n",
       "304              Senior Data Scientist (d/f/m)Personio   \n",
       "277     Machine Learning EngineerCapgemini Engineering   \n",
       "307                       Business Data AnalystHCLTech   \n",
       "1    Consultoría | New Joiners Data & Analytics // ...   \n",
       "\n",
       "                                 lista_skills  numero_requisitos  \\\n",
       "44                 [Matemáticas, Travel, ADE]                  3   \n",
       "304  [flexible, SQL, Agile, Azure, auditoría]                  5   \n",
       "277                        [Matemáticas, ADE]                  2   \n",
       "307                [Matemáticas, Travel, ADE]                  3   \n",
       "1                          [Matemáticas, ADE]                  2   \n",
       "\n",
       "     años_de_experiencia  \n",
       "44                  10.0  \n",
       "304                 10.0  \n",
       "277                 10.0  \n",
       "307                 10.0  \n",
       "1                   10.0  "
      ]
     },
     "execution_count": 60,
     "metadata": {},
     "output_type": "execute_result"
    }
   ],
   "source": [
    "df.sort_values('años_de_experiencia', ascending=False).head(5)"
   ]
  },
  {
   "cell_type": "code",
   "execution_count": null,
   "metadata": {},
   "outputs": [],
   "source": [
    "#print(df.sort_values('años_de_experiencia', ascending=False).to_markdown())"
   ]
  },
  {
   "cell_type": "code",
   "execution_count": null,
   "metadata": {},
   "outputs": [],
   "source": [
    "#print(df.sort_values('años_de_experiencia', ascending=False).to_markdown())"
   ]
  },
  {
   "cell_type": "code",
   "execution_count": 61,
   "metadata": {},
   "outputs": [
    {
     "name": "stdout",
     "output_type": "stream",
     "text": [
      "|    | lista_skills                                      |   numero_requisitos |   años_de_experiencia |\n",
      "|---:|:--------------------------------------------------|--------------------:|----------------------:|\n",
      "|  0 | ['Engineering', 'English', 'Mathematics']         |                   3 |                   nan |\n",
      "|  1 | ['KPIs']                                          |                   1 |                   nan |\n",
      "|  2 | ['flexible', 'Java', 'SQL', 'Spark', 'Azure']     |                   5 |                     4 |\n",
      "|  3 | ['SQL', 'Python', 'Matemáticas', 'Tableau', 'IT'] |                   5 |                     3 |\n",
      "|  4 | ['flexible']                                      |                   1 |                     7 |\n"
     ]
    }
   ],
   "source": [
    "print(df.iloc[0:5, df.columns.isin(['lista_skills','numero_requisitos','años_de_experiencia'])].to_markdown())"
   ]
  }
 ],
 "metadata": {
  "kernelspec": {
   "display_name": "base",
   "language": "python",
   "name": "python3"
  },
  "language_info": {
   "codemirror_mode": {
    "name": "ipython",
    "version": 3
   },
   "file_extension": ".py",
   "mimetype": "text/x-python",
   "name": "python",
   "nbconvert_exporter": "python",
   "pygments_lexer": "ipython3",
   "version": "3.9.16"
  },
  "orig_nbformat": 4
 },
 "nbformat": 4,
 "nbformat_minor": 2
}
